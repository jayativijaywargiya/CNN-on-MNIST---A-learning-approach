{
  "nbformat": 4,
  "nbformat_minor": 0,
  "metadata": {
    "colab": {
      "name": "CNN ON MNIST data.ipynb",
      "provenance": []
    },
    "kernelspec": {
      "name": "python3",
      "display_name": "Python 3"
    },
    "accelerator": "GPU"
  },
  "cells": [
    {
      "cell_type": "code",
      "metadata": {
        "id": "GZrZv4k6YBFv"
      },
      "source": [
        ""
      ],
      "execution_count": null,
      "outputs": []
    },
    {
      "cell_type": "markdown",
      "metadata": {
        "id": "x-Y_g6cNYG7S"
      },
      "source": [
        "Hello all ........\n",
        "\n",
        "> Hope you are doing good.......\n",
        "I am Jayati Vijaywargiya, and here I bring a small tutorial to start working on Convolution Neural Network using tensorflow. In this excercise we will\n",
        "\n",
        "\n",
        "*   Load and analyze MNIST dataset\n",
        "*   Divide dataset in training, testing and validation dataset\n",
        "*   Prepare a basic convolutional neural network model for classification\n",
        "*   Compile the model\n",
        "*   Display the model summary\n",
        "*   Use cross-entropy loss and accuracy metrics for the model prepared\n",
        "*   Train the network\n",
        "*   Validate the network using validate set and show the results\n",
        "\n",
        "So lets get started\n",
        "\n",
        "\n",
        "\n",
        "\n",
        "\n",
        "\n",
        "\n"
      ]
    },
    {
      "cell_type": "code",
      "metadata": {
        "id": "z71mibH9azAb"
      },
      "source": [
        "import matplotlib.pyplot as plt\n",
        "import numpy as np\n",
        "import tensorflow as tf\n",
        "import tensorflow_datasets as tfds\n",
        "from tensorflow.keras import datasets,layers, models\n",
        "from sklearn.model_selection import train_test_split"
      ],
      "execution_count": 108,
      "outputs": []
    },
    {
      "cell_type": "markdown",
      "metadata": {
        "id": "zENXywqDbdU6"
      },
      "source": [
        "In the above step we imported all the necessary libraries, we would be using"
      ]
    },
    {
      "cell_type": "markdown",
      "metadata": {
        "id": "-9YHG32rYZli"
      },
      "source": [
        "Now, we will load the data set,\n",
        "> Before that, let me brief a little bit about dataset.\n",
        ">>The MNIST dataset is an acronym that stands for the Modified National Institute of Standards and Technology dataset. It is a dataset of 60,000 small square 28×28 pixel grayscale images of handwritten single digits between 0 and 9.\n",
        ">>>It is loaded in 2 sets, training set of 60000 images and testing set of 10000 images\n"
      ]
    },
    {
      "cell_type": "code",
      "metadata": {
        "id": "9xg3UFffcfLv"
      },
      "source": [
        "(Itrain_images, Itrain_labels), (test_images, test_labels) = datasets.mnist.load_data()"
      ],
      "execution_count": 55,
      "outputs": []
    },
    {
      "cell_type": "code",
      "metadata": {
        "id": "uXa7QQ5jcunw",
        "outputId": "4ddf6c3f-a734-49f2-82e2-aa898b08021f",
        "colab": {
          "base_uri": "https://localhost:8080/",
          "height": 34
        }
      },
      "source": [
        "np.shape(train_images_set1)"
      ],
      "execution_count": 56,
      "outputs": [
        {
          "output_type": "execute_result",
          "data": {
            "text/plain": [
              "(60000, 28, 28, 1)"
            ]
          },
          "metadata": {
            "tags": []
          },
          "execution_count": 56
        }
      ]
    },
    {
      "cell_type": "code",
      "metadata": {
        "id": "IwfoYDpcc2vw"
      },
      "source": [
        "train_images, val_images , train_labels, val_labels = train_test_split(Itrain_images, Itrain_labels, \n",
        "                                                    train_size=0.8, \n",
        "                                                    random_state=42)"
      ],
      "execution_count": 57,
      "outputs": []
    },
    {
      "cell_type": "markdown",
      "metadata": {
        "id": "l_XpLF_adX99"
      },
      "source": [
        "In the above code, we have divided the training and validation data from the training data set.\n"
      ]
    },
    {
      "cell_type": "code",
      "metadata": {
        "id": "ERrKD0sEdhT9",
        "outputId": "bce2500f-20f2-42b2-befc-b8eec1143869",
        "colab": {
          "base_uri": "https://localhost:8080/",
          "height": 34
        }
      },
      "source": [
        "np.shape(train_images)"
      ],
      "execution_count": 58,
      "outputs": [
        {
          "output_type": "execute_result",
          "data": {
            "text/plain": [
              "(48000, 28, 28)"
            ]
          },
          "metadata": {
            "tags": []
          },
          "execution_count": 58
        }
      ]
    },
    {
      "cell_type": "code",
      "metadata": {
        "id": "kVDeQmiRdmlW",
        "outputId": "472c1792-3242-4aed-f1c7-008ad3f2a4cc",
        "colab": {
          "base_uri": "https://localhost:8080/",
          "height": 34
        }
      },
      "source": [
        "np.shape(val_images)"
      ],
      "execution_count": 59,
      "outputs": [
        {
          "output_type": "execute_result",
          "data": {
            "text/plain": [
              "(12000, 28, 28)"
            ]
          },
          "metadata": {
            "tags": []
          },
          "execution_count": 59
        }
      ]
    },
    {
      "cell_type": "markdown",
      "metadata": {
        "id": "ttxB9daudwW9"
      },
      "source": [
        "Now, we will see the size of each training data, the class labels and the number of classes in the training dataset\n"
      ]
    },
    {
      "cell_type": "code",
      "metadata": {
        "id": "CzFu0cTNdqRh",
        "outputId": "9045252d-1feb-4058-ab95-1e117a2c5c9e",
        "colab": {
          "base_uri": "https://localhost:8080/",
          "height": 67
        }
      },
      "source": [
        "print(' Image size = ', np.shape(train_images[1]))\n",
        "print(' Labels =' , np.unique(train_labels))\n",
        "print('Number of classes', np.size(np.unique(train_labels)))"
      ],
      "execution_count": 60,
      "outputs": [
        {
          "output_type": "stream",
          "text": [
            " Image size =  (28, 28)\n",
            " Labels = [0 1 2 3 4 5 6 7 8 9]\n",
            "Number of classes 10\n"
          ],
          "name": "stdout"
        }
      ]
    },
    {
      "cell_type": "markdown",
      "metadata": {
        "id": "wkwqRoHMeIUx"
      },
      "source": [
        "In this dataset, we have each data as a 28*28 image, and we have 10 classes, labelled as 0,1,2,3,4,5,6,7,8,9"
      ]
    },
    {
      "cell_type": "markdown",
      "metadata": {
        "id": "rMzN-aBhec_H"
      },
      "source": [
        "Now, we will plot a few training data images"
      ]
    },
    {
      "cell_type": "code",
      "metadata": {
        "id": "rqqWtEQ3ejPN",
        "outputId": "67b5fe2e-c43c-4a8e-9864-b5222681caeb",
        "colab": {
          "base_uri": "https://localhost:8080/",
          "height": 589
        }
      },
      "source": [
        "plt.figure(figsize=(10,10))\n",
        "for i in range(49):\n",
        "    plt.subplot(7,7,i+1)\n",
        "    plt.xticks([])\n",
        "    plt.yticks([])\n",
        "    plt.grid(False)\n",
        "    plt.imshow(train_images[i], cmap=plt.cm.binary)\n",
        "    plt.xlabel(train_labels[i])\n",
        "plt.show()"
      ],
      "execution_count": 61,
      "outputs": [
        {
          "output_type": "display_data",
          "data": {
            "image/png": "[encoded data removed]",
            "text/plain": [
              "<Figure size 720x720 with 49 Axes>"
            ]
          },
          "metadata": {
            "tags": []
          }
        }
      ]
    },
    {
      "cell_type": "markdown",
      "metadata": {
        "id": "Puc2snkEe2ct"
      },
      "source": [
        "By now, you might be well aware about the dataset\n",
        "> Let's go to Convolution Neural Network Modelling\n",
        ">> If you dont know much about its theory part, Please spend 5 minutes and check this video\n",
        ">> https://www.youtube.com/watch?v=6Y4BEwAo1i8\n",
        "\n",
        "\n",
        "---\n",
        "\n"
      ]
    },
    {
      "cell_type": "code",
      "metadata": {
        "id": "mXSM9NTdmJyk"
      },
      "source": [
        "from keras.utils import to_categorical\n",
        "train_images=train_images.reshape((train_images.shape[0], 28, 28, 1))\n",
        "test_images=test_images.reshape((test_images.shape[0], 28, 28, 1))\n",
        "val_images=val_images.reshape((val_images.shape[0], 28, 28, 1))\n",
        "train_images_set1=train_images_set1.reshape((train_images_set1.shape[0], 28, 28, 1))"
      ],
      "execution_count": 62,
      "outputs": []
    },
    {
      "cell_type": "code",
      "metadata": {
        "id": "eJsym6Yse1f5"
      },
      "source": [
        "model = models.Sequential()\n",
        "model.add(layers.Conv2D(32, (5, 5), activation='relu', input_shape=(28, 28, 1)))\n",
        "model.add(layers.Conv2D(32, (3, 3), activation='relu', input_shape=(28, 28, 1)))\n",
        "model.add(layers.Conv2D(32, (3, 3), activation='relu', input_shape=(28, 28, 1)))\n",
        "model.add(layers.MaxPooling2D((2, 2)))\n",
        "model.add(layers.Conv2D(16, (3, 3), activation='relu'))\n",
        "model.add(layers.MaxPooling2D((2, 2)))\n",
        "model.add(layers.Flatten())\n",
        "model.add(layers.Dense(40, activation='relu'))\n",
        "model.add(layers.Dense(20, activation='relu'))\n",
        "model.add(layers.Dense(10, activation='softmax'))\n"
      ],
      "execution_count": 84,
      "outputs": []
    },
    {
      "cell_type": "markdown",
      "metadata": {
        "id": "kFfwgHCFgZRS"
      },
      "source": [
        "In the above code, we created a Convolution Neural Network, explaining that in detail...........Be patient if you want to understand.\n",
        "# The modeled CNN has following architechture\n",
        "\n",
        "\n",
        "1. layer 1-   Convolution layer ( 32 filters, 3*3 kernel size and ReLU activation funtion)  # for more detail about inbuilt function used - https://keras.io/api/layers/convolution_layers/convolution2d/\n",
        "2. layer 2- Convolution layer ( 32 filters, 3*3 kernel and ReLU activation funtion) # for more detail about inbuilt function used - https://keras.io/api/layers/convolution_layers/convolution2d/\n",
        "3. Layer 3- Pooling layer of pool size 2*2, for spatial dimensionality reduction # for more detail about inbuilt function used https://keras.io/api/layers/pooling_layers/max_pooling2d/\n",
        "4.   Layer 4- Convolution layer( 16 filters, 3*3 kernel and ReLU activation funtion)  # for more detail about inbuilt function used - https://keras.io/api/layers/convolution_layers/convolution2d/\n",
        "5.   Layer 5- Pooling layer of pool size 2*2, for spatial dimensionality reduction # for more detail about inbuilt function used https://keras.io/api/layers/pooling_layers/max_pooling2d/\n",
        "6.   Layer 6 is a flattening layer, it is used to flatten the input. For example, if flatten is applied to layer having input shape as (batch_size, 2,2), then the output shape of the layer will be (batch_size, 4) # for more detail about inbuilt function used https://www.tutorialspoint.com/keras/keras_flatten_layers.htm\n",
        "7.   Layer 7 is a fully connected layer or Dense layer. It uses ReLU activation function. It is like a regular densely-connected NN layer, In the abobe model the output of this layer will have 100 unique outputs or 100 classes # for more detail about inbuilt function used https://www.tensorflow.org/api_docs/python/tf/keras/layers/Dense\n",
        "8. Layer 8 is also a fully connected layer or Dense layer. It uses softmax activation function. It is like a regular densely-connected NN layer, In the abobe model the output of this layer will have 10 unique outputs or 10 classes # for more detail about inbuilt function used https://www.tensorflow.org/api_docs/python/tf/keras/layers/Dense\n",
        "\n",
        "# The above model explained was first tried, but it did not yeild good accuracy\n",
        "# so, methods like, \n",
        "Increase hidden Layers. ...\n",
        "Change Activation function. ...\n",
        "Change Activation function in Output layer. ...\n",
        "Increase number of neurons. ..\n",
        "#were applied\n",
        "# This was all about the simple Convolution Neural Network modelled in the above code.\n",
        "\n",
        "The summary of the new model created is here,\n",
        "\n",
        "\n"
      ]
    },
    {
      "cell_type": "code",
      "metadata": {
        "id": "L3Z9qxa9jio5",
        "outputId": "0ab08360-66d2-4906-897c-32ee05af7cea",
        "colab": {
          "base_uri": "https://localhost:8080/",
          "height": 487
        }
      },
      "source": [
        "model.summary()"
      ],
      "execution_count": 89,
      "outputs": [
        {
          "output_type": "stream",
          "text": [
            "Model: \"sequential_12\"\n",
            "_________________________________________________________________\n",
            "Layer (type)                 Output Shape              Param #   \n",
            "=================================================================\n",
            "conv2d_29 (Conv2D)           (None, 24, 24, 32)        832       \n",
            "_________________________________________________________________\n",
            "conv2d_30 (Conv2D)           (None, 22, 22, 32)        9248      \n",
            "_________________________________________________________________\n",
            "conv2d_31 (Conv2D)           (None, 20, 20, 32)        9248      \n",
            "_________________________________________________________________\n",
            "max_pooling2d_24 (MaxPooling (None, 10, 10, 32)        0         \n",
            "_________________________________________________________________\n",
            "conv2d_32 (Conv2D)           (None, 8, 8, 16)          4624      \n",
            "_________________________________________________________________\n",
            "max_pooling2d_25 (MaxPooling (None, 4, 4, 16)          0         \n",
            "_________________________________________________________________\n",
            "flatten_12 (Flatten)         (None, 256)               0         \n",
            "_________________________________________________________________\n",
            "dense_27 (Dense)             (None, 40)                10280     \n",
            "_________________________________________________________________\n",
            "dense_28 (Dense)             (None, 20)                820       \n",
            "_________________________________________________________________\n",
            "dense_29 (Dense)             (None, 10)                210       \n",
            "=================================================================\n",
            "Total params: 35,262\n",
            "Trainable params: 35,262\n",
            "Non-trainable params: 0\n",
            "_________________________________________________________________\n"
          ],
          "name": "stdout"
        }
      ]
    },
    {
      "cell_type": "markdown",
      "metadata": {
        "id": "57S13NRmj1dG"
      },
      "source": [
        "After model creation, model needs to be compiled. Here, Adam optimization is used.\n",
        "#Adam optimization \n",
        "> The Adam optimization algorithm is an extension to stochastic gradient descent that has recently seen broader adoption for deep learning applications in computer vision and natural language processing."
      ]
    },
    {
      "cell_type": "code",
      "metadata": {
        "id": "aMQ2VhRMj06V"
      },
      "source": [
        "model.compile(optimizer='adam',\n",
        "              loss=tf.keras.losses.SparseCategoricalCrossentropy(from_logits=True),\n",
        "              metrics=['accuracy'])"
      ],
      "execution_count": 85,
      "outputs": []
    },
    {
      "cell_type": "markdown",
      "metadata": {
        "id": "PtgIGVzxkYQB"
      },
      "source": [
        "Now we will fit the model, using traing data and validation data, using 20 epochs or iterations\n",
        "# Note: the below step will take time to execute"
      ]
    },
    {
      "cell_type": "code",
      "metadata": {
        "id": "8JIkBhFikoGv",
        "outputId": "d45abe41-1355-4fe2-c285-8a4214cb1c92",
        "colab": {
          "base_uri": "https://localhost:8080/",
          "height": 1000
        }
      },
      "source": [
        "model_1= model.fit(train_images, train_labels, epochs=50,validation_data=(val_images, val_labels))"
      ],
      "execution_count": 87,
      "outputs": [
        {
          "output_type": "stream",
          "text": [
            "Epoch 1/50\n",
            "1500/1500 [==============================] - 5s 3ms/step - loss: 2.0146 - accuracy: 0.4465 - val_loss: 2.1263 - val_accuracy: 0.3348\n",
            "Epoch 2/50\n",
            "1500/1500 [==============================] - 5s 3ms/step - loss: 1.9166 - accuracy: 0.5445 - val_loss: 1.8060 - val_accuracy: 0.6551\n",
            "Epoch 3/50\n",
            "1500/1500 [==============================] - 5s 3ms/step - loss: 1.9212 - accuracy: 0.5400 - val_loss: 2.0721 - val_accuracy: 0.3891\n",
            "Epoch 4/50\n",
            "1500/1500 [==============================] - 5s 3ms/step - loss: 2.0500 - accuracy: 0.4111 - val_loss: 1.9104 - val_accuracy: 0.5508\n",
            "Epoch 5/50\n",
            "1500/1500 [==============================] - 5s 3ms/step - loss: 1.9386 - accuracy: 0.5226 - val_loss: 1.9021 - val_accuracy: 0.5590\n",
            "Epoch 6/50\n",
            "1500/1500 [==============================] - 5s 3ms/step - loss: 1.9196 - accuracy: 0.5415 - val_loss: 2.0207 - val_accuracy: 0.4404\n",
            "Epoch 7/50\n",
            "1500/1500 [==============================] - 5s 3ms/step - loss: 1.9512 - accuracy: 0.5099 - val_loss: 1.8532 - val_accuracy: 0.6079\n",
            "Epoch 8/50\n",
            "1500/1500 [==============================] - 5s 3ms/step - loss: 1.8548 - accuracy: 0.6063 - val_loss: 1.8861 - val_accuracy: 0.5750\n",
            "Epoch 9/50\n",
            "1500/1500 [==============================] - 5s 3ms/step - loss: 2.0180 - accuracy: 0.4431 - val_loss: 2.0144 - val_accuracy: 0.4467\n",
            "Epoch 10/50\n",
            "1500/1500 [==============================] - 5s 3ms/step - loss: 1.9548 - accuracy: 0.5064 - val_loss: 1.9836 - val_accuracy: 0.4775\n",
            "Epoch 11/50\n",
            "1500/1500 [==============================] - 5s 3ms/step - loss: 1.9693 - accuracy: 0.4919 - val_loss: 1.8628 - val_accuracy: 0.5983\n",
            "Epoch 12/50\n",
            "1500/1500 [==============================] - 5s 3ms/step - loss: 1.9303 - accuracy: 0.5308 - val_loss: 1.9539 - val_accuracy: 0.5073\n",
            "Epoch 13/50\n",
            "1500/1500 [==============================] - 5s 3ms/step - loss: 1.9264 - accuracy: 0.5347 - val_loss: 1.9066 - val_accuracy: 0.5546\n",
            "Epoch 14/50\n",
            "1500/1500 [==============================] - 5s 3ms/step - loss: 1.8979 - accuracy: 0.5633 - val_loss: 1.8781 - val_accuracy: 0.5831\n",
            "Epoch 15/50\n",
            "1500/1500 [==============================] - 5s 3ms/step - loss: 1.9511 - accuracy: 0.5100 - val_loss: 1.9709 - val_accuracy: 0.4902\n",
            "Epoch 16/50\n",
            "1500/1500 [==============================] - 5s 3ms/step - loss: 1.9395 - accuracy: 0.5217 - val_loss: 1.9274 - val_accuracy: 0.5337\n",
            "Epoch 17/50\n",
            "1500/1500 [==============================] - 5s 3ms/step - loss: 1.9747 - accuracy: 0.4865 - val_loss: 1.9758 - val_accuracy: 0.4853\n",
            "Epoch 18/50\n",
            "1500/1500 [==============================] - 5s 3ms/step - loss: 1.9715 - accuracy: 0.4896 - val_loss: 1.8998 - val_accuracy: 0.5613\n",
            "Epoch 19/50\n",
            "1500/1500 [==============================] - 5s 3ms/step - loss: 1.8919 - accuracy: 0.5693 - val_loss: 1.8878 - val_accuracy: 0.5733\n",
            "Epoch 20/50\n",
            "1500/1500 [==============================] - 5s 3ms/step - loss: 1.9529 - accuracy: 0.5083 - val_loss: 1.9700 - val_accuracy: 0.4912\n",
            "Epoch 21/50\n",
            "1500/1500 [==============================] - 5s 3ms/step - loss: 1.9932 - accuracy: 0.4680 - val_loss: 2.0448 - val_accuracy: 0.4163\n",
            "Epoch 22/50\n",
            "1500/1500 [==============================] - 5s 3ms/step - loss: 1.9382 - accuracy: 0.5230 - val_loss: 1.8716 - val_accuracy: 0.5896\n",
            "Epoch 23/50\n",
            "1500/1500 [==============================] - 5s 3ms/step - loss: 1.8842 - accuracy: 0.5770 - val_loss: 1.8871 - val_accuracy: 0.5740\n",
            "Epoch 24/50\n",
            "1500/1500 [==============================] - 5s 3ms/step - loss: 1.9352 - accuracy: 0.5260 - val_loss: 2.0301 - val_accuracy: 0.4310\n",
            "Epoch 25/50\n",
            "1500/1500 [==============================] - 5s 3ms/step - loss: 2.0391 - accuracy: 0.4220 - val_loss: 2.0245 - val_accuracy: 0.4367\n",
            "Epoch 26/50\n",
            "1500/1500 [==============================] - 5s 3ms/step - loss: 2.0231 - accuracy: 0.4381 - val_loss: 2.0202 - val_accuracy: 0.4409\n",
            "Epoch 27/50\n",
            "1500/1500 [==============================] - 5s 3ms/step - loss: 2.0630 - accuracy: 0.3982 - val_loss: 2.1504 - val_accuracy: 0.3108\n",
            "Epoch 28/50\n",
            "1500/1500 [==============================] - 5s 3ms/step - loss: 2.0915 - accuracy: 0.3697 - val_loss: 2.0721 - val_accuracy: 0.3890\n",
            "Epoch 29/50\n",
            "1500/1500 [==============================] - 5s 3ms/step - loss: 2.0053 - accuracy: 0.4559 - val_loss: 1.9848 - val_accuracy: 0.4763\n",
            "Epoch 30/50\n",
            "1500/1500 [==============================] - 5s 3ms/step - loss: 1.9635 - accuracy: 0.4977 - val_loss: 1.9676 - val_accuracy: 0.4936\n",
            "Epoch 31/50\n",
            "1500/1500 [==============================] - 5s 3ms/step - loss: 1.9714 - accuracy: 0.4898 - val_loss: 1.9675 - val_accuracy: 0.4937\n",
            "Epoch 32/50\n",
            "1500/1500 [==============================] - 5s 3ms/step - loss: 1.9714 - accuracy: 0.4898 - val_loss: 1.9675 - val_accuracy: 0.4937\n",
            "Epoch 33/50\n",
            "1500/1500 [==============================] - 5s 3ms/step - loss: 1.9714 - accuracy: 0.4898 - val_loss: 1.9675 - val_accuracy: 0.4937\n",
            "Epoch 34/50\n",
            "1500/1500 [==============================] - 5s 3ms/step - loss: 1.9714 - accuracy: 0.4898 - val_loss: 1.9675 - val_accuracy: 0.4937\n",
            "Epoch 35/50\n",
            "1500/1500 [==============================] - 5s 3ms/step - loss: 1.9512 - accuracy: 0.5100 - val_loss: 1.9331 - val_accuracy: 0.5281\n",
            "Epoch 36/50\n",
            "1500/1500 [==============================] - 5s 3ms/step - loss: 1.9258 - accuracy: 0.5354 - val_loss: 2.0258 - val_accuracy: 0.4353\n",
            "Epoch 37/50\n",
            "1500/1500 [==============================] - 5s 3ms/step - loss: 2.0571 - accuracy: 0.4041 - val_loss: 2.0521 - val_accuracy: 0.4090\n",
            "Epoch 38/50\n",
            "1500/1500 [==============================] - 5s 3ms/step - loss: 2.0683 - accuracy: 0.3929 - val_loss: 2.0715 - val_accuracy: 0.3896\n",
            "Epoch 39/50\n",
            "1500/1500 [==============================] - 5s 3ms/step - loss: 2.0289 - accuracy: 0.4322 - val_loss: 2.0064 - val_accuracy: 0.4548\n",
            "Epoch 40/50\n",
            "1500/1500 [==============================] - 5s 3ms/step - loss: 2.0125 - accuracy: 0.4486 - val_loss: 2.0346 - val_accuracy: 0.4266\n",
            "Epoch 41/50\n",
            "1500/1500 [==============================] - 5s 3ms/step - loss: 2.0570 - accuracy: 0.4042 - val_loss: 2.0776 - val_accuracy: 0.3835\n",
            "Epoch 42/50\n",
            "1500/1500 [==============================] - 5s 3ms/step - loss: 2.0794 - accuracy: 0.3817 - val_loss: 2.0776 - val_accuracy: 0.3835\n",
            "Epoch 43/50\n",
            "1500/1500 [==============================] - 5s 3ms/step - loss: 2.0219 - accuracy: 0.4392 - val_loss: 1.9554 - val_accuracy: 0.5058\n",
            "Epoch 44/50\n",
            "1500/1500 [==============================] - 5s 3ms/step - loss: 2.0632 - accuracy: 0.3979 - val_loss: 2.2357 - val_accuracy: 0.2254\n",
            "Epoch 45/50\n",
            "1500/1500 [==============================] - 5s 3ms/step - loss: 2.2333 - accuracy: 0.2278 - val_loss: 2.2370 - val_accuracy: 0.2242\n",
            "Epoch 46/50\n",
            "1500/1500 [==============================] - 5s 3ms/step - loss: 2.2337 - accuracy: 0.2275 - val_loss: 2.2370 - val_accuracy: 0.2242\n",
            "Epoch 47/50\n",
            "1500/1500 [==============================] - 5s 3ms/step - loss: 2.2337 - accuracy: 0.2275 - val_loss: 2.2370 - val_accuracy: 0.2242\n",
            "Epoch 48/50\n",
            "1500/1500 [==============================] - 5s 3ms/step - loss: 2.2337 - accuracy: 0.2275 - val_loss: 2.2370 - val_accuracy: 0.2242\n",
            "Epoch 49/50\n",
            "1500/1500 [==============================] - 5s 3ms/step - loss: 2.2337 - accuracy: 0.2275 - val_loss: 2.2370 - val_accuracy: 0.2242\n",
            "Epoch 50/50\n",
            "1500/1500 [==============================] - 5s 3ms/step - loss: 2.2337 - accuracy: 0.2275 - val_loss: 2.2370 - val_accuracy: 0.2242\n"
          ],
          "name": "stdout"
        }
      ]
    },
    {
      "cell_type": "markdown",
      "metadata": {
        "id": "tuvcVq7HuaNQ"
      },
      "source": [
        "From the above we got the intuition that the first 20 or 15 epochs are sufficient and yeild better result\n",
        "# now we will again create the another model and train it for 10 epochs"
      ]
    },
    {
      "cell_type": "code",
      "metadata": {
        "id": "V_tEOaiMuj9x",
        "outputId": "b6331fbf-b919-476a-ce04-6fb7650ec9b0",
        "colab": {
          "base_uri": "https://localhost:8080/",
          "height": 554
        }
      },
      "source": [
        "model2 = models.Sequential()\n",
        "model2.add(layers.Conv2D(32, (3, 3), activation='relu', input_shape=(28, 28, 1)))\n",
        "model2.add(layers.Conv2D(32, (3, 3), activation='relu', input_shape=(28, 28, 1)))\n",
        "model2.add(layers.MaxPooling2D((2, 2)))\n",
        "model2.add(layers.Conv2D(32, (3, 3), activation='relu', input_shape=(28, 28, 1)))\n",
        "model2.add(layers.Conv2D(32, (3, 3), activation='relu', input_shape=(28, 28, 1)))\n",
        "model2.add(layers.MaxPooling2D((2, 2)))\n",
        "model2.add(layers.Conv2D(16, (3, 3), activation='relu'))\n",
        "model2.add(layers.MaxPooling2D((2, 2)))\n",
        "model2.add(layers.Flatten())\n",
        "model2.add(layers.Dense(40, activation='softmax'))\n",
        "model2.add(layers.Dense(20, activation='softmax'))\n",
        "model2.add(layers.Dense(10, activation='softmax'))\n",
        "model2.summary()"
      ],
      "execution_count": 103,
      "outputs": [
        {
          "output_type": "stream",
          "text": [
            "Model: \"sequential_16\"\n",
            "_________________________________________________________________\n",
            "Layer (type)                 Output Shape              Param #   \n",
            "=================================================================\n",
            "conv2d_41 (Conv2D)           (None, 26, 26, 32)        320       \n",
            "_________________________________________________________________\n",
            "conv2d_42 (Conv2D)           (None, 24, 24, 32)        9248      \n",
            "_________________________________________________________________\n",
            "max_pooling2d_32 (MaxPooling (None, 12, 12, 32)        0         \n",
            "_________________________________________________________________\n",
            "conv2d_43 (Conv2D)           (None, 10, 10, 32)        9248      \n",
            "_________________________________________________________________\n",
            "conv2d_44 (Conv2D)           (None, 8, 8, 32)          9248      \n",
            "_________________________________________________________________\n",
            "max_pooling2d_33 (MaxPooling (None, 4, 4, 32)          0         \n",
            "_________________________________________________________________\n",
            "conv2d_45 (Conv2D)           (None, 2, 2, 16)          4624      \n",
            "_________________________________________________________________\n",
            "max_pooling2d_34 (MaxPooling (None, 1, 1, 16)          0         \n",
            "_________________________________________________________________\n",
            "flatten_16 (Flatten)         (None, 16)                0         \n",
            "_________________________________________________________________\n",
            "dense_36 (Dense)             (None, 40)                680       \n",
            "_________________________________________________________________\n",
            "dense_37 (Dense)             (None, 20)                820       \n",
            "_________________________________________________________________\n",
            "dense_38 (Dense)             (None, 10)                210       \n",
            "=================================================================\n",
            "Total params: 34,398\n",
            "Trainable params: 34,398\n",
            "Non-trainable params: 0\n",
            "_________________________________________________________________\n"
          ],
          "name": "stdout"
        }
      ]
    },
    {
      "cell_type": "code",
      "metadata": {
        "id": "leinbngQvdyv"
      },
      "source": [
        "model2.compile(optimizer='adam',\n",
        "              loss=tf.keras.losses.SparseCategoricalCrossentropy(from_logits=True),\n",
        "              metrics=['accuracy'])"
      ],
      "execution_count": 104,
      "outputs": []
    },
    {
      "cell_type": "code",
      "metadata": {
        "id": "APUzjs--vkUw",
        "outputId": "6488df66-c824-4229-d05a-bc3483f9896b",
        "colab": {
          "base_uri": "https://localhost:8080/",
          "height": 353
        }
      },
      "source": [
        "model_2= model2.fit(train_images, train_labels, epochs=10,validation_data=(val_images, val_labels))"
      ],
      "execution_count": 106,
      "outputs": [
        {
          "output_type": "stream",
          "text": [
            "Epoch 1/10\n",
            "1500/1500 [==============================] - 5s 3ms/step - loss: 2.2890 - accuracy: 0.1317 - val_loss: 2.3062 - val_accuracy: 0.1115\n",
            "Epoch 2/10\n",
            "1500/1500 [==============================] - 5s 3ms/step - loss: 2.2859 - accuracy: 0.1422 - val_loss: 2.2759 - val_accuracy: 0.2116\n",
            "Epoch 3/10\n",
            "1500/1500 [==============================] - 5s 3ms/step - loss: 2.2485 - accuracy: 0.2043 - val_loss: 2.1877 - val_accuracy: 0.2700\n",
            "Epoch 4/10\n",
            "1500/1500 [==============================] - 5s 3ms/step - loss: 2.1877 - accuracy: 0.2574 - val_loss: 2.1841 - val_accuracy: 0.2586\n",
            "Epoch 5/10\n",
            "1500/1500 [==============================] - 5s 3ms/step - loss: 2.2309 - accuracy: 0.1986 - val_loss: 2.2816 - val_accuracy: 0.1392\n",
            "Epoch 6/10\n",
            "1500/1500 [==============================] - 5s 3ms/step - loss: 2.2886 - accuracy: 0.1370 - val_loss: 2.3017 - val_accuracy: 0.1120\n",
            "Epoch 7/10\n",
            "1500/1500 [==============================] - 5s 3ms/step - loss: 2.2950 - accuracy: 0.1256 - val_loss: 2.2873 - val_accuracy: 0.1338\n",
            "Epoch 8/10\n",
            "1500/1500 [==============================] - 5s 4ms/step - loss: 2.2852 - accuracy: 0.1352 - val_loss: 2.2836 - val_accuracy: 0.1339\n",
            "Epoch 9/10\n",
            "1500/1500 [==============================] - 5s 3ms/step - loss: 2.2833 - accuracy: 0.1353 - val_loss: 2.2825 - val_accuracy: 0.1339\n",
            "Epoch 10/10\n",
            "1500/1500 [==============================] - 5s 3ms/step - loss: 2.2825 - accuracy: 0.1353 - val_loss: 2.2820 - val_accuracy: 0.1339\n"
          ],
          "name": "stdout"
        }
      ]
    },
    {
      "cell_type": "markdown",
      "metadata": {
        "id": "bsctw4A83BsM"
      },
      "source": [
        "After trying a few models, the model below gave good accuracy.\n",
        "# This is how a simple CNN is implemented\n",
        "\n",
        "# The final model is implemented below and has been validated with validation data\n",
        "\n",
        "# And tested with testing data"
      ]
    },
    {
      "cell_type": "code",
      "metadata": {
        "id": "OoLIgOpE18lN"
      },
      "source": [
        "model3 = tf.keras.models.Sequential([\n",
        "    tf.keras.layers.Conv2D(16, (3,3), activation='relu', input_shape=(28, 28,1)),\n",
        "    tf.keras.layers.MaxPooling2D(2,2),\n",
        "    tf.keras.layers.Flatten(),\n",
        "    tf.keras.layers.Dense(512, activation='relu'),\n",
        "    tf.keras.layers.Dense(256, activation='relu'),\n",
        "    tf.keras.layers.Dense(10, activation='softmax')\n",
        "])"
      ],
      "execution_count": 130,
      "outputs": []
    },
    {
      "cell_type": "code",
      "metadata": {
        "id": "2T8W62bV50u2",
        "outputId": "ce8b9635-b5cd-4a22-aecc-c6b4a1fbc058",
        "colab": {
          "base_uri": "https://localhost:8080/",
          "height": 353
        }
      },
      "source": [
        "model3.summary()"
      ],
      "execution_count": 150,
      "outputs": [
        {
          "output_type": "stream",
          "text": [
            "Model: \"sequential_27\"\n",
            "_________________________________________________________________\n",
            "Layer (type)                 Output Shape              Param #   \n",
            "=================================================================\n",
            "conv2d_63 (Conv2D)           (None, 26, 26, 16)        160       \n",
            "_________________________________________________________________\n",
            "max_pooling2d_49 (MaxPooling (None, 13, 13, 16)        0         \n",
            "_________________________________________________________________\n",
            "flatten_24 (Flatten)         (None, 2704)              0         \n",
            "_________________________________________________________________\n",
            "dense_53 (Dense)             (None, 512)               1384960   \n",
            "_________________________________________________________________\n",
            "dense_54 (Dense)             (None, 256)               131328    \n",
            "_________________________________________________________________\n",
            "dense_55 (Dense)             (None, 10)                2570      \n",
            "=================================================================\n",
            "Total params: 1,519,018\n",
            "Trainable params: 1,519,018\n",
            "Non-trainable params: 0\n",
            "_________________________________________________________________\n"
          ],
          "name": "stdout"
        }
      ]
    },
    {
      "cell_type": "code",
      "metadata": {
        "id": "fwYOVBIL2sWZ"
      },
      "source": [
        "model3.compile(optimizer='adam', loss='sparse_categorical_crossentropy', metrics=['acc'])"
      ],
      "execution_count": 132,
      "outputs": []
    },
    {
      "cell_type": "code",
      "metadata": {
        "id": "BZwq25Dq20CY",
        "outputId": "ecfdb7fc-179d-4de2-a36f-7bb6e78fe9f6",
        "colab": {
          "base_uri": "https://localhost:8080/",
          "height": 353
        }
      },
      "source": [
        "model_3= model3.fit(train_images, train_labels, epochs=10,validation_data=(val_images, val_labels))"
      ],
      "execution_count": 133,
      "outputs": [
        {
          "output_type": "stream",
          "text": [
            "Epoch 1/10\n",
            "1500/1500 [==============================] - 4s 3ms/step - loss: 0.6047 - acc: 0.9378 - val_loss: 0.1213 - val_acc: 0.9688\n",
            "Epoch 2/10\n",
            "1500/1500 [==============================] - 4s 2ms/step - loss: 0.0757 - acc: 0.9773 - val_loss: 0.0921 - val_acc: 0.9716\n",
            "Epoch 3/10\n",
            "1500/1500 [==============================] - 4s 2ms/step - loss: 0.0550 - acc: 0.9826 - val_loss: 0.1112 - val_acc: 0.9718\n",
            "Epoch 4/10\n",
            "1500/1500 [==============================] - 4s 3ms/step - loss: 0.0494 - acc: 0.9851 - val_loss: 0.0858 - val_acc: 0.9794\n",
            "Epoch 5/10\n",
            "1500/1500 [==============================] - 4s 2ms/step - loss: 0.0396 - acc: 0.9883 - val_loss: 0.1294 - val_acc: 0.9697\n",
            "Epoch 6/10\n",
            "1500/1500 [==============================] - 4s 3ms/step - loss: 0.0372 - acc: 0.9894 - val_loss: 0.0878 - val_acc: 0.9780\n",
            "Epoch 7/10\n",
            "1500/1500 [==============================] - 4s 3ms/step - loss: 0.0312 - acc: 0.9910 - val_loss: 0.0924 - val_acc: 0.9814\n",
            "Epoch 8/10\n",
            "1500/1500 [==============================] - 4s 3ms/step - loss: 0.0259 - acc: 0.9926 - val_loss: 0.1216 - val_acc: 0.9768\n",
            "Epoch 9/10\n",
            "1500/1500 [==============================] - 4s 3ms/step - loss: 0.0288 - acc: 0.9923 - val_loss: 0.1244 - val_acc: 0.9781\n",
            "Epoch 10/10\n",
            "1500/1500 [==============================] - 4s 3ms/step - loss: 0.0243 - acc: 0.9937 - val_loss: 0.1423 - val_acc: 0.9812\n"
          ],
          "name": "stdout"
        }
      ]
    },
    {
      "cell_type": "code",
      "metadata": {
        "id": "hLOCMs7i3OxL"
      },
      "source": [
        "y_test = model3.predict(test_images)"
      ],
      "execution_count": 135,
      "outputs": []
    },
    {
      "cell_type": "code",
      "metadata": {
        "id": "zFhqKAgj7cTN",
        "outputId": "f092552c-9bed-46dd-cff6-fe212e97e5f4",
        "colab": {
          "base_uri": "https://localhost:8080/",
          "height": 353
        }
      },
      "source": [
        "history = model3.fit(train_images, train_labels, epochs=10,validation_data=(test_images, test_labels))"
      ],
      "execution_count": 161,
      "outputs": [
        {
          "output_type": "stream",
          "text": [
            "Epoch 1/10\n",
            "1500/1500 [==============================] - 4s 3ms/step - loss: 0.0177 - acc: 0.9954 - val_loss: 0.1314 - val_acc: 0.9809\n",
            "Epoch 2/10\n",
            "1500/1500 [==============================] - 4s 3ms/step - loss: 0.0227 - acc: 0.9950 - val_loss: 0.1270 - val_acc: 0.9799\n",
            "Epoch 3/10\n",
            "1500/1500 [==============================] - 4s 3ms/step - loss: 0.0161 - acc: 0.9963 - val_loss: 0.1344 - val_acc: 0.9809\n",
            "Epoch 4/10\n",
            "1500/1500 [==============================] - 4s 3ms/step - loss: 0.0219 - acc: 0.9952 - val_loss: 0.1657 - val_acc: 0.9771\n",
            "Epoch 5/10\n",
            "1500/1500 [==============================] - 4s 3ms/step - loss: 0.0149 - acc: 0.9965 - val_loss: 0.1553 - val_acc: 0.9786\n",
            "Epoch 6/10\n",
            "1500/1500 [==============================] - 4s 3ms/step - loss: 0.0130 - acc: 0.9972 - val_loss: 0.2024 - val_acc: 0.9749\n",
            "Epoch 7/10\n",
            "1500/1500 [==============================] - 4s 3ms/step - loss: 0.0202 - acc: 0.9964 - val_loss: 0.2202 - val_acc: 0.9774\n",
            "Epoch 8/10\n",
            "1500/1500 [==============================] - 4s 3ms/step - loss: 0.0136 - acc: 0.9974 - val_loss: 0.1734 - val_acc: 0.9816\n",
            "Epoch 9/10\n",
            "1500/1500 [==============================] - 4s 3ms/step - loss: 0.0204 - acc: 0.9963 - val_loss: 0.1981 - val_acc: 0.9804\n",
            "Epoch 10/10\n",
            "1500/1500 [==============================] - 4s 3ms/step - loss: 0.0185 - acc: 0.9966 - val_loss: 0.2637 - val_acc: 0.9803\n"
          ],
          "name": "stdout"
        }
      ]
    },
    {
      "cell_type": "code",
      "metadata": {
        "id": "hg3chcXL32_0",
        "outputId": "c920937c-5686-451e-eaa0-e70c139524e0",
        "colab": {
          "base_uri": "https://localhost:8080/",
          "height": 34
        }
      },
      "source": [
        "np.shape(y_test)\n"
      ],
      "execution_count": 140,
      "outputs": [
        {
          "output_type": "execute_result",
          "data": {
            "text/plain": [
              "(10000, 10)"
            ]
          },
          "metadata": {
            "tags": []
          },
          "execution_count": 140
        }
      ]
    },
    {
      "cell_type": "markdown",
      "metadata": {
        "id": "PN05FMvn8GzP"
      },
      "source": [
        "#Thus using model 3 a test accuracy of 97.92% is reached"
      ]
    },
    {
      "cell_type": "code",
      "metadata": {
        "id": "vu-fjrYs5Al5"
      },
      "source": [
        "import pandas as pd\n",
        "results = np.argmax(y_test,axis = 1)\n",
        "\n",
        "results = pd.Series(results,name=\"Label\")"
      ],
      "execution_count": 145,
      "outputs": []
    },
    {
      "cell_type": "code",
      "metadata": {
        "id": "e832aQgl4uVQ",
        "outputId": "bd28135e-bb47-4045-9280-1403282ee4c8",
        "colab": {
          "base_uri": "https://localhost:8080/",
          "height": 34
        }
      },
      "source": [
        "np.shape(results)"
      ],
      "execution_count": 146,
      "outputs": [
        {
          "output_type": "execute_result",
          "data": {
            "text/plain": [
              "(10000,)"
            ]
          },
          "metadata": {
            "tags": []
          },
          "execution_count": 146
        }
      ]
    },
    {
      "cell_type": "code",
      "metadata": {
        "id": "KHd7grUE5QJf",
        "outputId": "045816a7-cef0-4230-9933-aaf6edc73294",
        "colab": {
          "base_uri": "https://localhost:8080/",
          "height": 34
        }
      },
      "source": [
        "from sklearn.metrics import accuracy_score\n",
        "accuracy_score(test_labels,results)"
      ],
      "execution_count": 149,
      "outputs": [
        {
          "output_type": "execute_result",
          "data": {
            "text/plain": [
              "0.9792"
            ]
          },
          "metadata": {
            "tags": []
          },
          "execution_count": 149
        }
      ]
    }
  ]
}